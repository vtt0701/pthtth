{
  "cells": [
    {
      "cell_type": "markdown",
      "metadata": {
        "id": "N0Mem7OeWboR"
      },
      "source": [
        "# Họ và tên:\n",
        "# MSSV: Võ Thiện Thông\n",
        "# Lớp học phần - Nhóm TH: DHCNTT16B - Nhóm 3"
      ]
    },
    {
      "cell_type": "markdown",
      "metadata": {
        "id": "P_nu4xSmWboT"
      },
      "source": [
        "# 1. Hello world!"
      ]
    },
    {
      "cell_type": "code",
      "execution_count": 1,
      "metadata": {
        "colab": {
          "base_uri": "https://localhost:8080/"
        },
        "id": "1IelRuZtWboT",
        "outputId": "d716ca02-2ad3-4f72-e8d6-8fed82db9ef5"
      },
      "outputs": [
        {
          "output_type": "stream",
          "name": "stdout",
          "text": [
            "Hello world!\n"
          ]
        }
      ],
      "source": [
        "print(\"Hello world!\")"
      ]
    },
    {
      "cell_type": "markdown",
      "metadata": {
        "id": "t5RBx1K8WboT"
      },
      "source": [
        "# 2. Program to Add Two Numbers"
      ]
    },
    {
      "cell_type": "markdown",
      "metadata": {
        "id": "yxDoNr5UWboU"
      },
      "source": [
        "## Add Two Numbers"
      ]
    },
    {
      "cell_type": "code",
      "execution_count": 2,
      "metadata": {
        "colab": {
          "base_uri": "https://localhost:8080/"
        },
        "id": "YMElLle-WboU",
        "outputId": "6b1fd210-97dc-4bba-ded7-0d85625ee564"
      },
      "outputs": [
        {
          "output_type": "stream",
          "name": "stdout",
          "text": [
            "7.8\n"
          ]
        }
      ],
      "source": [
        "num1 = 1.5\n",
        "num2 = 6.3\n",
        "\n",
        "### START CODE HERE ###\n",
        "# Add two numbers\n",
        "\n",
        "sum =  num1+num2\n",
        "\n",
        "# Display the sum\n",
        "print(sum)"
      ]
    },
    {
      "cell_type": "markdown",
      "metadata": {
        "id": "nVJKiHqVWboU"
      },
      "source": [
        "##  Add Two Numbers With User Input"
      ]
    },
    {
      "cell_type": "code",
      "execution_count": 14,
      "metadata": {
        "colab": {
          "base_uri": "https://localhost:8080/"
        },
        "id": "F6YFJG2QWboU",
        "outputId": "a65b5ce0-cc1c-4d99-aef0-45bd310cf64c"
      },
      "outputs": [
        {
          "output_type": "stream",
          "name": "stdout",
          "text": [
            "a= ?\n",
            "5\n",
            "b= ?\n",
            "4\n",
            "sum = 9\n"
          ]
        }
      ],
      "source": [
        "# Store input numbers\n",
        "print(\"a= ?\")\n",
        "a = int(input())\n",
        "print(\"b= ?\")\n",
        "b = int(input())\n",
        "\n",
        "### START CODE HERE ###\n",
        "\n",
        "sum = (a +b)\n",
        "\n",
        "### END CODE HERE ###\n",
        "\n",
        "# Display the sum\n",
        "print(\"sum =\",sum)"
      ]
    },
    {
      "cell_type": "markdown",
      "metadata": {
        "id": "0qn8MfCzWboV"
      },
      "source": [
        "# 3. Program to Find the Square Root"
      ]
    },
    {
      "cell_type": "code",
      "execution_count": 16,
      "metadata": {
        "colab": {
          "base_uri": "https://localhost:8080/"
        },
        "id": "s7yQ0s0KWboV",
        "outputId": "fe5e1ebe-721f-4441-8c4b-f4b2e45af850"
      },
      "outputs": [
        {
          "output_type": "stream",
          "name": "stdout",
          "text": [
            "8.0\n"
          ]
        }
      ],
      "source": [
        "# Python Program to calculate the square root\n",
        "import math\n",
        "# Note: change this value for a different result\n",
        "num = 64\n",
        "\n",
        "# To take the input from the user\n",
        "#num = float(input('Enter a number: '))\n",
        "\n",
        "# calculate the square root\n",
        "sqrt = math.sqrt(num)\n",
        "\n",
        "# print the value of the square root\n",
        "print(sqrt)\n"
      ]
    },
    {
      "cell_type": "markdown",
      "metadata": {
        "id": "e93uqWEAWboV"
      },
      "source": [
        "# 4. Program to Calculate the Area of a Triangle\n",
        "s = (a+b+c)/2\n",
        "\n",
        "area = √(s(s-a)*(s-b)*(s-c))"
      ]
    },
    {
      "cell_type": "code",
      "execution_count": 22,
      "metadata": {
        "colab": {
          "base_uri": "https://localhost:8080/"
        },
        "id": "1bUt9NPfWboV",
        "outputId": "dc784d3d-3662-4717-9462-451dcea5cb4a"
      },
      "outputs": [
        {
          "output_type": "stream",
          "name": "stdout",
          "text": [
            "Enter a : 5\n",
            "Enter b : 4\n",
            "Enter c : 3\n",
            "The area of the triangle is 6.00\n"
          ]
        }
      ],
      "source": [
        "### START CODE HERE ###\n",
        "import math\n",
        "# take inputs from the user\n",
        "a = float(input('Enter a : '))\n",
        "b = float(input('Enter b : '))\n",
        "c = float(input('Enter c : '))\n",
        "\n",
        "\n",
        "# calculate the semi-perimeter\n",
        "p = (a+b+c)/2\n",
        "\n",
        "# calculate the area\n",
        "area = math.sqrt(p*(p-a)*(p-b)*(p-c))\n",
        "\n",
        "### END CODE HERE ###\n",
        "\n",
        "print('The area of the triangle is %0.2f' %area)"
      ]
    },
    {
      "cell_type": "markdown",
      "metadata": {
        "id": "IgXH4I36WboW"
      },
      "source": [
        "# 5. Program to Solve Quadratic Equation\n",
        "ax2 + bx + c = 0, where a, b and c are real numbers and a ≠ 0"
      ]
    },
    {
      "cell_type": "code",
      "execution_count": 58,
      "metadata": {
        "colab": {
          "base_uri": "https://localhost:8080/"
        },
        "id": "PFxPW6YjWboW",
        "outputId": "6ea50384-499c-4e5c-9bbc-691aa7326ab3"
      },
      "outputs": [
        {
          "output_type": "stream",
          "name": "stdout",
          "text": [
            "Enter a : 4\n",
            "Enter b : 12\n",
            "Enter c : 9\n",
            "The solution are -24.0 and -24.0\n"
          ]
        }
      ],
      "source": [
        "import math\n",
        "\n",
        "### START CODE HERE ###\n",
        "\n",
        "# take inputs from the user\n",
        "a = float(input('Enter a : '))\n",
        "while a<0 :\n",
        "    a = float(input('Re-enter a : '))\n",
        "b = float(input('Enter b : '))\n",
        "c = float(input('Enter c : '))\n",
        "\n",
        "# calculate the discriminant\n",
        "d = b*b - (4*a*c)\n",
        "\n",
        "# find two solutions using square root for real/complex number\n",
        "if d > 0:\n",
        "  sol1 = (-b -math.sqrt(d))/(2*a)\n",
        "  sol2 = (-b +math.sqrt(d))/(2*a)\n",
        "elif d == 0:\n",
        "  sol1 = sol2 = -b/2*a\n",
        "else:\n",
        "  print(\"null\")\n",
        "### END CODE HERE ###\n",
        "\n",
        "print('The solution are {0} and {1}'.format(sol1,sol2))"
      ]
    },
    {
      "cell_type": "markdown",
      "metadata": {
        "id": "QBWqbWy3WboW"
      },
      "source": [
        "# 6. Program to Swap Two Variables"
      ]
    },
    {
      "cell_type": "code",
      "execution_count": 31,
      "metadata": {
        "colab": {
          "base_uri": "https://localhost:8080/"
        },
        "id": "mWkPIo5RWboW",
        "outputId": "1e0f9451-d923-46f0-ee5a-745ac7f16649"
      },
      "outputs": [
        {
          "output_type": "stream",
          "name": "stdout",
          "text": [
            "Enter a : 2\n",
            "Enter b : 3\n",
            "Value of a: 3.0\n",
            "Value of b: 2.0\n"
          ]
        }
      ],
      "source": [
        "from IPython.utils.io import temp_pyfile\n",
        "# To take inputs from the user\n",
        "a = float(input('Enter a : '))\n",
        "b = float(input('Enter b : '))\n",
        "\n",
        "# create a temporary variable and swap the values\n",
        "temp = a\n",
        "a = b\n",
        "b = temp\n",
        "# Print the c=value of x, y after swapping\n",
        "print(\"Value of a:\", a)\n",
        "print(\"Value of b:\", b)\n"
      ]
    },
    {
      "cell_type": "code",
      "execution_count": 45,
      "metadata": {
        "colab": {
          "base_uri": "https://localhost:8080/"
        },
        "id": "UjX-_iuWWboW",
        "outputId": "6f8fa40b-0ddd-42c0-a2ab-1bc65a3b931d"
      },
      "outputs": [
        {
          "output_type": "stream",
          "name": "stdout",
          "text": [
            "Memory address of x: 134047731877392\n",
            "Memory address of y: 134046460490992\n",
            "Memory address of temp: 134046460480192\n"
          ]
        }
      ],
      "source": [
        "### START CODE HERE ###\n",
        "# writing code to get the address (in RAM) of x, y, temp through the built-in function id()\n",
        "x = 42\n",
        "y = \"Hello\"\n",
        "temp = [1, 2, 3]\n",
        "# Get the memory addresses of x, y, and temp\n",
        "address_x = id(x)\n",
        "address_y = id(y)\n",
        "address_temp = id(temp)\n",
        "\n",
        "# Print the memory addresses\n",
        "print(f\"Memory address of x: {address_x}\")\n",
        "print(f\"Memory address of y: {address_y}\")\n",
        "print(f\"Memory address of temp: {address_temp}\")\n",
        "\n",
        "### END CODE HERE ###"
      ]
    },
    {
      "cell_type": "markdown",
      "metadata": {
        "id": "N5OqxKHlWboW"
      },
      "source": [
        "# 7. Program to Generate a Random Number\n",
        "https://docs.python.org/3/library/random.html"
      ]
    },
    {
      "cell_type": "code",
      "execution_count": 49,
      "metadata": {
        "colab": {
          "base_uri": "https://localhost:8080/"
        },
        "id": "qXF_LIieWboW",
        "outputId": "f0379498-b168-4aa2-ddcf-f637a5d06dac"
      },
      "outputs": [
        {
          "output_type": "stream",
          "name": "stdout",
          "text": [
            "4\n",
            "5\n",
            "3\n",
            "0.07300920039681102\n",
            "51.45533422312124\n"
          ]
        }
      ],
      "source": [
        "# Program to generate a random number between 0 and 9\n",
        "\n",
        "# importing the random module\n",
        "import random\n",
        "\n",
        "print(random.randint(0,9))\n",
        "\n",
        "# Uncomment to try different function in random module\n",
        "print(random.randrange(9))\n",
        "print(random.randrange(3,9))\n",
        "print(random.random())\n",
        "print(random.uniform(50,60))"
      ]
    },
    {
      "cell_type": "markdown",
      "metadata": {
        "id": "kLvm4vRgWboW"
      },
      "source": [
        "# 8. Program to Convert Kilometers to Miles\n",
        "1 km = (1/1.609344) mi = 0.62137119 mi"
      ]
    },
    {
      "cell_type": "code",
      "execution_count": 50,
      "metadata": {
        "colab": {
          "base_uri": "https://localhost:8080/"
        },
        "id": "XlhCg2_qWboX",
        "outputId": "114a9a26-ecbe-4359-8290-c84812313a99"
      },
      "outputs": [
        {
          "output_type": "stream",
          "name": "stdout",
          "text": [
            "Enter value in kilometers: 60\n",
            "60.00 kilometers is equal to 37.28 miles\n"
          ]
        }
      ],
      "source": [
        "# Taking kilometers input from the user\n",
        "kilometers = float(input(\"Enter value in kilometers: \"))\n",
        "\n",
        "# conversion factor\n",
        "conv_fac = 0.621371\n",
        "\n",
        "# calculate miles\n",
        "miles = kilometers * conv_fac\n",
        "print('%0.2f kilometers is equal to %0.2f miles' %(kilometers,miles))"
      ]
    },
    {
      "cell_type": "code",
      "execution_count": 51,
      "metadata": {
        "colab": {
          "base_uri": "https://localhost:8080/"
        },
        "id": "0nKTwHW0WboX",
        "outputId": "ad519e65-0ce5-439a-c9d1-b9c1ae9ec075"
      },
      "outputs": [
        {
          "output_type": "stream",
          "name": "stdout",
          "text": [
            "Enter value in kilometers: 6\n",
            "6.00 miles is equal to 9.66 kilometers\n"
          ]
        }
      ],
      "source": [
        "### START CODE HERE ###\n",
        "# writing code to convert miles to kilometers\n",
        "miles = float(input(\"Enter value in kilometers: \"))\n",
        "# conversion factor\n",
        "conv_fac = 1.609344\n",
        "# calculate miles\n",
        "kilometers = miles * conv_fac\n",
        "print('%0.2f miles is equal to %0.2f kilometers' %(miles,kilometers))\n",
        "### END CODE HERE ###\n"
      ]
    },
    {
      "cell_type": "markdown",
      "metadata": {
        "id": "Bc3d3hJoWboX"
      },
      "source": [
        "# 9. Program to Convert Celsius To Fahrenheit\n",
        "T(°F) = T(°C) × 1.8 + 32"
      ]
    },
    {
      "cell_type": "code",
      "execution_count": 54,
      "metadata": {
        "colab": {
          "base_uri": "https://localhost:8080/"
        },
        "id": "ucQ4zE7mWboX",
        "outputId": "4192b79f-b906-47b2-9a9e-f3bda3a75a5c"
      },
      "outputs": [
        {
          "output_type": "stream",
          "name": "stdout",
          "text": [
            "Enter value in celsius: 30\n",
            "30.00 celsius is equal to 86.00 Fahrenheit\n"
          ]
        }
      ],
      "source": [
        "### START CODE HERE ###\n",
        "# Taking celsius input from the user\n",
        "c = float(input(\"Enter value in celsius: \"))\n",
        "\n",
        "# calculate Fahrenheit\n",
        "f = c*1.8+32\n",
        "\n",
        "# print result\n",
        "print('%0.2f celsius is equal to %0.2f Fahrenheit' %(c,f))\n",
        "### END CODE HERE ###"
      ]
    }
  ],
  "metadata": {
    "kernelspec": {
      "display_name": "Python 3",
      "language": "python",
      "name": "python3"
    },
    "language_info": {
      "codemirror_mode": {
        "name": "ipython",
        "version": 3
      },
      "file_extension": ".py",
      "mimetype": "text/x-python",
      "name": "python",
      "nbconvert_exporter": "python",
      "pygments_lexer": "ipython3",
      "version": "3.11.4"
    },
    "colab": {
      "provenance": []
    }
  },
  "nbformat": 4,
  "nbformat_minor": 0
}